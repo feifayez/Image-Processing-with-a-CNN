{
 "cells": [
  {
   "cell_type": "markdown",
   "metadata": {},
   "source": [
    "**This study utilized partial dataset (1000 cat images and 1000 dog images) of the [2013 Kaggle Dogs vs. Cats competition](https://www.kaggle.com/c/dogs-vs-cats). to examin how the three factors may impact a convolutional neural network (CNN) performance: (1) image color; (2) image size; and (3) pooling-layer type. Each factor has two levels: image color (gray: channel=1/color: channel=3), image size (64x64/128x128), and pooling-layer (max_pooling/average_pooling). Thus, this benchmark experiment was conducted with a 2x3 factorial design.**\n",
    "\n",
    "**Keras from tensorflow was used to construct two CNN models: (1) CNN_max consistes of 1 convolutional layer (32, 5x5 + 1(S)), 1 max-pooling layer(2x2 + 2), 1 fully-connected layer(100 neurons, ReLu) followed by dropout rate = 0.4, and 1 output layer (2 neurons corresponding to the 2 classes); (2) CNN_avg consists of 1 convolutional layer (32, 5x5 + 1(S)), 1 avg-pooling layer(2x2 + 2), 1 fully-connected layer(100 neurons, ReLu) with dropout rate = 0.4, and 1 output layer (2 neurons corresponding to the 2 classes). Each of the four (4) data sets was devided into train/development/test sets in 60/20/20 ratio. Each model was trained on the train set and validated on the development set before it's deployed to evaluate the test set.**\n",
    "\n",
    "**The results from our eight (8) experiments show that**: \n",
    "1. When larger images (128x128) are used for model training and development, the accuracy of the model is mostly higher than that when smaller images (64x64) are utilized.\n",
    "2. When images in color (channel=3) are used for model training and development, the model consistently outperforms that built with gray images (channel=1), no matter of the image size or the type of pooling-layer.\n",
    "3. Max_pooling method is recommended.\n",
    "    \n",
    "**While it is evident that it takes much longer time to train and develop the CNN model if larger colorful image (128x128, channel=3) are used, the mangement's primary concern is achieving the highest possible accuracy in image classification. Therefore, it is recommended to utilize higher-resolution images (128x128) in RGB color (channel=3) for training and development of CNN model with max_pooling layer designed within , at the cost of runtime.**"
   ]
  },
  {
   "cell_type": "markdown",
   "metadata": {},
   "source": [
    "# SETUP"
   ]
  },
  {
   "cell_type": "markdown",
   "metadata": {},
   "source": [
    "Import packages needed for this study."
   ]
  },
  {
   "cell_type": "code",
   "execution_count": 1,
   "metadata": {},
   "outputs": [],
   "source": [
    "import numpy as np\n",
    "import os\n",
    "import time\n",
    "import pandas as pd\n",
    "from collections import OrderedDict"
   ]
  },
  {
   "cell_type": "markdown",
   "metadata": {},
   "source": [
    "Import function from scikit-learn."
   ]
  },
  {
   "cell_type": "code",
   "execution_count": 2,
   "metadata": {},
   "outputs": [],
   "source": [
    "from sklearn.preprocessing import MinMaxScaler\n",
    "from sklearn.model_selection import train_test_split"
   ]
  },
  {
   "cell_type": "markdown",
   "metadata": {},
   "source": [
    "Import tensorflow and keras."
   ]
  },
  {
   "cell_type": "code",
   "execution_count": 3,
   "metadata": {},
   "outputs": [],
   "source": [
    "import tensorflow as tf\n",
    "from tensorflow import keras"
   ]
  },
  {
   "cell_type": "markdown",
   "metadata": {},
   "source": [
    "Plotting setup."
   ]
  },
  {
   "cell_type": "code",
   "execution_count": 4,
   "metadata": {},
   "outputs": [],
   "source": [
    "%matplotlib inline\n",
    "import matplotlib\n",
    "import matplotlib.pyplot as plt\n",
    "plt.rcParams['axes.labelsize'] = 14\n",
    "plt.rcParams['xtick.labelsize'] = 12\n",
    "plt.rcParams['ytick.labelsize'] = 12"
   ]
  },
  {
   "cell_type": "markdown",
   "metadata": {},
   "source": [
    "Utility function setup to plot grayscale and RGB images."
   ]
  },
  {
   "cell_type": "code",
   "execution_count": 5,
   "metadata": {},
   "outputs": [],
   "source": [
    "def plot_image(image):\n",
    "    plt.imshow(image, cmap=\"gray\", interpolation=\"nearest\")\n",
    "    plt.axis(\"off\")\n",
    "\n",
    "def plot_color_image(image):\n",
    "    plt.imshow(image.astype(np.uint8),interpolation=\"nearest\")\n",
    "    plt.axis(\"off\")"
   ]
  },
  {
   "cell_type": "markdown",
   "metadata": {},
   "source": [
    "Make the output stable across runs."
   ]
  },
  {
   "cell_type": "code",
   "execution_count": 6,
   "metadata": {},
   "outputs": [],
   "source": [
    "Random_Seed = 42"
   ]
  },
  {
   "cell_type": "code",
   "execution_count": 7,
   "metadata": {},
   "outputs": [],
   "source": [
    "def reset_graph(seed=Random_Seed):\n",
    "    tf.reset_default_graph()\n",
    "    tf.set_random_seed(seed)\n",
    "    np.random.seed(seed)"
   ]
  },
  {
   "cell_type": "markdown",
   "metadata": {},
   "source": [
    "# CATS AND DOGD DATASET"
   ]
  },
  {
   "cell_type": "markdown",
   "metadata": {},
   "source": [
    "Load in .npy files. The following codes are adopted from Miller (2018) run-cats-dogs-jump-start-dnn-v002.py."
   ]
  },
  {
   "cell_type": "code",
   "execution_count": 8,
   "metadata": {},
   "outputs": [],
   "source": [
    "cats_1000_64_64_1 = np.load('cats_1000_64_64_1.npy')\n",
    "dogs_1000_64_64_1 = np.load('dogs_1000_64_64_1.npy')\n",
    "cats_1000_128_128_1 = np.load('cats_1000_128_128_1.npy')\n",
    "dogs_1000_128_128_1 = np.load('dogs_1000_128_128_1.npy')\n",
    "cats_1000_64_64_3 = np.load('cats_1000_64_64_3.npy')\n",
    "dogs_1000_64_64_3 = np.load('dogs_1000_64_64_3.npy')\n",
    "cats_1000_128_128_3 = np.load('cats_1000_128_128_3.npy')\n",
    "dogs_1000_128_128_3 = np.load('dogs_1000_128_128_3.npy')"
   ]
  },
  {
   "cell_type": "markdown",
   "metadata": {},
   "source": [
    "Stack the numpy arrays to form input data."
   ]
  },
  {
   "cell_type": "code",
   "execution_count": 9,
   "metadata": {},
   "outputs": [],
   "source": [
    "X_64g = np.concatenate((cats_1000_64_64_1, dogs_1000_64_64_1), axis = 0) \n",
    "X_128g = np.concatenate((cats_1000_128_128_1, dogs_1000_128_128_1), axis = 0)\n",
    "X_64c = np.concatenate((cats_1000_64_64_3, dogs_1000_64_64_3), axis = 0)\n",
    "X_128c = np.concatenate((cats_1000_128_128_3, dogs_1000_128_128_3), axis = 0)\n",
    "X_cats_dogs = [X_64g, X_128g, X_64c, X_128c]"
   ]
  },
  {
   "cell_type": "markdown",
   "metadata": {},
   "source": [
    "Define the labels to be used 1000 cats = 0 1000 dogs = 1"
   ]
  },
  {
   "cell_type": "code",
   "execution_count": 10,
   "metadata": {},
   "outputs": [],
   "source": [
    "y_cat_dog = np.concatenate((np.zeros((1000), dtype = np.int32), \n",
    "                      np.ones((1000), dtype = np.int32)), axis = 0)"
   ]
  },
  {
   "cell_type": "markdown",
   "metadata": {},
   "source": [
    "Visualize the first picture in each four data sets. "
   ]
  },
  {
   "cell_type": "code",
   "execution_count": 11,
   "metadata": {},
   "outputs": [
    {
     "data": {
      "image/png": "[encoded data removed]",
      "text/plain": [
       "<Figure size 432x288 with 1 Axes>"
      ]
     },
     "metadata": {
      "needs_background": "light"
     },
     "output_type": "display_data"
    }
   ],
   "source": [
    "plot_image(X_64g[0, :, :, 0])"
   ]
  },
  {
   "cell_type": "code",
   "execution_count": 12,
   "metadata": {},
   "outputs": [
    {
     "data": {
      "image/png": "[encoded data removed]",
      "text/plain": [
       "<Figure size 432x288 with 1 Axes>"
      ]
     },
     "metadata": {
      "needs_background": "light"
     },
     "output_type": "display_data"
    }
   ],
   "source": [
    "plot_image(X_128g[0, :, :, 0])"
   ]
  },
  {
   "cell_type": "code",
   "execution_count": 13,
   "metadata": {},
   "outputs": [
    {
     "data": {
      "image/png": "[encoded data removed]",
      "text/plain": [
       "<Figure size 432x288 with 1 Axes>"
      ]
     },
     "metadata": {
      "needs_background": "light"
     },
     "output_type": "display_data"
    }
   ],
   "source": [
    "plot_color_image(X_64c[0, :, :, 0])"
   ]
  },
  {
   "cell_type": "code",
   "execution_count": 14,
   "metadata": {},
   "outputs": [
    {
     "data": {
      "image/png": "[encoded data removed]",
      "text/plain": [
       "<Figure size 432x288 with 1 Axes>"
      ]
     },
     "metadata": {
      "needs_background": "light"
     },
     "output_type": "display_data"
    }
   ],
   "source": [
    "plot_color_image(X_128c[0, :, :, 0])"
   ]
  },
  {
   "cell_type": "markdown",
   "metadata": {},
   "source": [
    "Set up scaler to later rescale the train/dev/test data set before feeding to the CNN model."
   ]
  },
  {
   "cell_type": "code",
   "execution_count": 15,
   "metadata": {},
   "outputs": [
    {
     "data": {
      "text/plain": [
       "MinMaxScaler(copy=True, feature_range=(0, 1))"
      ]
     },
     "execution_count": 15,
     "metadata": {},
     "output_type": "execute_result"
    }
   ],
   "source": [
    "scaler = MinMaxScaler()\n",
    "scaler.fit(np.array([0., 255.]).reshape(-1,1))"
   ]
  },
  {
   "cell_type": "markdown",
   "metadata": {},
   "source": [
    "# DEFINE FUNCTIONS TO BUILD CNN MODELS"
   ]
  },
  {
   "cell_type": "markdown",
   "metadata": {},
   "source": [
    "Define function CNN_max_mode which uses Keras to build a CNN model consisting of 1 convolutional layer (32, 5x5 + 1(S)), 1 max-pooling layer(2x2 + 2), 1 fully-connected layer(100 neurons, ReLu) with dropout rate = 0.4, and 1 output layer (2 neurons corresponding to the 2 classes). Codes are adopted from [Maynard-Reid (2018) Fashion-MNIST with tf.Keras](https://medium.com/tensorflow/hello-deep-learning-fashion-mnist-with-keras-50fcff8cd74a) "
   ]
  },
  {
   "cell_type": "code",
   "execution_count": 16,
   "metadata": {},
   "outputs": [],
   "source": [
    "def CNN_max_model (height, width, channel):\n",
    "    model_max = tf.keras.Sequential()\n",
    "    model_max.add(tf.keras.layers.Conv2D(filters=32, kernel_size=(5, 5), \n",
    "                                         strides=(1, 1), padding='same', \n",
    "                                         activation='relu', \n",
    "                                         input_shape=(height, width, channel))) \n",
    "    model_max.add(tf.keras.layers.MaxPooling2D(pool_size=(2, 2), strides=(2, 2)))\n",
    "    model_max.add(tf.keras.layers.Flatten())\n",
    "    model_max.add(tf.keras.layers.Dense(100, activation='relu'))\n",
    "    model_max.add(tf.keras.layers.Dropout(0.4))\n",
    "    model_max.add(tf.keras.layers.Dense(2, activation='softmax'))\n",
    "\n",
    "    return model_max;"
   ]
  },
  {
   "cell_type": "markdown",
   "metadata": {},
   "source": [
    "Define function CNN_avg_mode which uses Keras to build a CNN model consisting of 1 convolutional layer (32, 5x5 + 1(S)), 1 average-pooling layer(2x2 + 2), 1 fully-connected layer(100 neurons, ReLu) with dropout rate = 0.4, and 1 output layer (2 neurons corresponding to the 2 classes). Codes are adopted from [Maynard-Reid (2018) Fashion-MNIST with tf.Keras](https://medium.com/tensorflow/hello-deep-learning-fashion-mnist-with-keras-50fcff8cd74a) "
   ]
  },
  {
   "cell_type": "code",
   "execution_count": 17,
   "metadata": {},
   "outputs": [],
   "source": [
    "def CNN_avg_model (height, width, channel):\n",
    "    model_avg = tf.keras.Sequential()\n",
    "    model_avg.add(tf.keras.layers.Conv2D(filters=32, kernel_size=(5, 5), \n",
    "                                         strides=(1, 1), \n",
    "                                         padding='same', activation='relu', \n",
    "                                         input_shape=(height, width, channel))) \n",
    "    model_avg.add(tf.keras.layers.AveragePooling2D(pool_size=(2, 2), strides=(2, 2)))\n",
    "    model_avg.add(tf.keras.layers.Flatten())\n",
    "    model_avg.add(tf.keras.layers.Dense(100, activation='relu'))\n",
    "    model_avg.add(tf.keras.layers.Dropout(0.4))\n",
    "    model_avg.add(tf.keras.layers.Dense(2, activation='softmax'))\n",
    "\n",
    "    return model_avg;"
   ]
  },
  {
   "cell_type": "markdown",
   "metadata": {},
   "source": [
    "# BENCHMARK EXPERIMENT WITH 2X3 FACTORIAL DESIGN"
   ]
  },
  {
   "cell_type": "markdown",
   "metadata": {},
   "source": [
    "Set up numpy array to store test results."
   ]
  },
  {
   "cell_type": "code",
   "execution_count": 18,
   "metadata": {},
   "outputs": [],
   "source": [
    "heights=[]\n",
    "widths=[]\n",
    "channels=[]\n",
    "accuracy_test=[]\n",
    "loss_test=[]\n",
    "processing_time=[]"
   ]
  },
  {
   "cell_type": "markdown",
   "metadata": {},
   "source": [
    "**Experiment with CNN_max_model.**"
   ]
  },
  {
   "cell_type": "markdown",
   "metadata": {},
   "source": [
    "For each of the four data sets which are the four combinations of two (2) of the three (3) factors in this experiment: image size (64x64/128x128), and image color (gray: channel=1/color: channel=3), we split it into train/development/test (60/20/20). First, we train the CNN_max model on each of the train set and evaluate on its corresponding development set. The time spent on training and developing will be recorded for each run."
   ]
  },
  {
   "cell_type": "code",
   "execution_count": 19,
   "metadata": {},
   "outputs": [
    {
     "name": "stdout",
     "output_type": "stream",
     "text": [
      "Train on 1280 samples, validate on 320 samples\n",
      "Epoch 1/10\n",
      "1280/1280 [==============================] - 5s 4ms/step - loss: 0.9688 - acc: 0.5109 - val_loss: 0.6900 - val_acc: 0.5813\n",
      "Epoch 2/10\n",
      "1280/1280 [==============================] - 5s 4ms/step - loss: 0.6896 - acc: 0.5516 - val_loss: 0.6899 - val_acc: 0.4906\n",
      "Epoch 3/10\n",
      "1280/1280 [==============================] - 5s 4ms/step - loss: 0.6614 - acc: 0.6266 - val_loss: 0.6853 - val_acc: 0.5094\n",
      "Epoch 4/10\n",
      "1280/1280 [==============================] - 5s 4ms/step - loss: 0.5932 - acc: 0.7219 - val_loss: 0.6204 - val_acc: 0.6844\n",
      "Epoch 5/10\n",
      "1280/1280 [==============================] - 5s 4ms/step - loss: 0.5272 - acc: 0.7477 - val_loss: 0.6027 - val_acc: 0.6875\n",
      "Epoch 6/10\n",
      "1280/1280 [==============================] - 5s 4ms/step - loss: 0.4252 - acc: 0.8250 - val_loss: 0.5853 - val_acc: 0.6937\n",
      "Epoch 7/10\n",
      "1280/1280 [==============================] - 5s 4ms/step - loss: 0.3607 - acc: 0.8633 - val_loss: 0.5955 - val_acc: 0.7031\n",
      "Epoch 8/10\n",
      "1280/1280 [==============================] - 5s 4ms/step - loss: 0.2862 - acc: 0.9117 - val_loss: 0.5859 - val_acc: 0.7063\n",
      "Epoch 9/10\n",
      "1280/1280 [==============================] - 5s 4ms/step - loss: 0.2298 - acc: 0.9297 - val_loss: 0.6352 - val_acc: 0.7094\n",
      "Epoch 10/10\n",
      "1280/1280 [==============================] - 5s 4ms/step - loss: 0.1834 - acc: 0.9555 - val_loss: 0.6487 - val_acc: 0.7094\n",
      "Train on 1280 samples, validate on 320 samples\n",
      "Epoch 1/10\n",
      "1280/1280 [==============================] - 22s 17ms/step - loss: 6.9318 - acc: 0.5117 - val_loss: 2.6910 - val_acc: 0.4500\n",
      "Epoch 2/10\n",
      "1280/1280 [==============================] - 19s 15ms/step - loss: 0.9693 - acc: 0.4914 - val_loss: 0.6917 - val_acc: 0.5062\n",
      "Epoch 3/10\n",
      "1280/1280 [==============================] - 19s 15ms/step - loss: 0.6710 - acc: 0.5852 - val_loss: 0.6616 - val_acc: 0.6031\n",
      "Epoch 4/10\n",
      "1280/1280 [==============================] - 19s 15ms/step - loss: 0.5486 - acc: 0.7453 - val_loss: 0.5645 - val_acc: 0.7250\n",
      "Epoch 5/10\n",
      "1280/1280 [==============================] - 20s 16ms/step - loss: 0.4049 - acc: 0.8344 - val_loss: 0.5329 - val_acc: 0.7312\n",
      "Epoch 6/10\n",
      "1280/1280 [==============================] - 20s 15ms/step - loss: 0.2703 - acc: 0.9008 - val_loss: 0.6173 - val_acc: 0.7031\n",
      "Epoch 7/10\n",
      "1280/1280 [==============================] - 19s 15ms/step - loss: 0.1865 - acc: 0.9445 - val_loss: 0.5256 - val_acc: 0.7562\n",
      "Epoch 8/10\n",
      "1280/1280 [==============================] - 19s 15ms/step - loss: 0.1051 - acc: 0.9836 - val_loss: 0.5200 - val_acc: 0.7875\n",
      "Epoch 9/10\n",
      "1280/1280 [==============================] - 19s 15ms/step - loss: 0.0676 - acc: 0.9898 - val_loss: 0.5120 - val_acc: 0.7969\n",
      "Epoch 10/10\n",
      "1280/1280 [==============================] - 19s 15ms/step - loss: 0.0436 - acc: 0.9945 - val_loss: 0.5684 - val_acc: 0.7937\n",
      "Train on 1280 samples, validate on 320 samples\n",
      "Epoch 1/10\n",
      "1280/1280 [==============================] - 7s 5ms/step - loss: 0.8118 - acc: 0.5961 - val_loss: 0.5975 - val_acc: 0.7344\n",
      "Epoch 2/10\n",
      "1280/1280 [==============================] - 6s 5ms/step - loss: 0.5294 - acc: 0.7469 - val_loss: 0.5127 - val_acc: 0.7750\n",
      "Epoch 3/10\n",
      "1280/1280 [==============================] - 6s 5ms/step - loss: 0.4658 - acc: 0.8055 - val_loss: 0.4912 - val_acc: 0.8000\n",
      "Epoch 4/10\n",
      "1280/1280 [==============================] - 6s 5ms/step - loss: 0.3936 - acc: 0.8391 - val_loss: 0.4548 - val_acc: 0.8094\n",
      "Epoch 5/10\n",
      "1280/1280 [==============================] - 6s 5ms/step - loss: 0.3217 - acc: 0.8805 - val_loss: 0.4497 - val_acc: 0.8063\n",
      "Epoch 6/10\n",
      "1280/1280 [==============================] - 6s 5ms/step - loss: 0.2756 - acc: 0.9047 - val_loss: 0.4350 - val_acc: 0.8250\n",
      "Epoch 7/10\n",
      "1280/1280 [==============================] - 6s 5ms/step - loss: 0.2512 - acc: 0.9047 - val_loss: 0.4979 - val_acc: 0.7531\n",
      "Epoch 8/10\n",
      "1280/1280 [==============================] - 6s 5ms/step - loss: 0.2084 - acc: 0.9258 - val_loss: 0.5106 - val_acc: 0.7562\n",
      "Epoch 9/10\n",
      "1280/1280 [==============================] - 6s 5ms/step - loss: 0.1771 - acc: 0.9492 - val_loss: 0.4605 - val_acc: 0.7875\n",
      "Epoch 10/10\n",
      "1280/1280 [==============================] - 7s 5ms/step - loss: 0.1456 - acc: 0.9555 - val_loss: 0.5329 - val_acc: 0.7688\n",
      "Train on 1280 samples, validate on 320 samples\n",
      "Epoch 1/10\n",
      "1280/1280 [==============================] - 27s 21ms/step - loss: 4.1551 - acc: 0.5188 - val_loss: 0.6450 - val_acc: 0.5906\n",
      "Epoch 2/10\n",
      "1280/1280 [==============================] - 25s 19ms/step - loss: 0.5972 - acc: 0.6250 - val_loss: 0.4922 - val_acc: 0.7844\n",
      "Epoch 3/10\n",
      "1280/1280 [==============================] - 25s 19ms/step - loss: 0.4025 - acc: 0.8344 - val_loss: 0.4630 - val_acc: 0.7844\n",
      "Epoch 4/10\n",
      "1280/1280 [==============================] - 25s 19ms/step - loss: 0.2350 - acc: 0.9047 - val_loss: 0.4508 - val_acc: 0.7875\n",
      "Epoch 5/10\n",
      "1280/1280 [==============================] - 25s 19ms/step - loss: 0.1616 - acc: 0.9445 - val_loss: 0.5624 - val_acc: 0.7969\n",
      "Epoch 6/10\n",
      "1280/1280 [==============================] - 26s 20ms/step - loss: 0.0896 - acc: 0.9734 - val_loss: 0.5647 - val_acc: 0.8125\n",
      "Epoch 7/10\n",
      "1280/1280 [==============================] - 25s 19ms/step - loss: 0.0475 - acc: 0.9898 - val_loss: 0.5823 - val_acc: 0.8063\n",
      "Epoch 8/10\n",
      "1280/1280 [==============================] - 25s 19ms/step - loss: 0.0299 - acc: 0.9953 - val_loss: 0.6678 - val_acc: 0.7937\n",
      "Epoch 9/10\n",
      "1280/1280 [==============================] - 26s 20ms/step - loss: 0.0221 - acc: 0.9969 - val_loss: 0.7173 - val_acc: 0.7937\n",
      "Epoch 10/10\n",
      "1280/1280 [==============================] - 27s 21ms/step - loss: 0.0132 - acc: 0.9984 - val_loss: 0.7914 - val_acc: 0.8031\n"
     ]
    }
   ],
   "source": [
    "for X_cat_dog in X_cats_dogs:\n",
    "    start_time = time.clock()\n",
    "    X_inputs=[]\n",
    "    batch_size, height, width, channel = X_cat_dog.shape\n",
    "    X_cat_dog = X_cat_dog.reshape(-1,height*width*channel)\n",
    "    X_train, X_test, y_train, y_test = train_test_split(X_cat_dog, y_cat_dog, \n",
    "                                                        test_size=0.2, \n",
    "                                                        random_state=Random_Seed)\n",
    "    X_train, X_val, y_train, y_val = train_test_split(X_train, y_train, \n",
    "                                                      test_size=0.2, \n",
    "                                                      random_state=Random_Seed)\n",
    "    for X in (X_train, X_val, X_test):\n",
    "        X_MinMax=scaler.transform(X)\n",
    "        X_input=X_MinMax.reshape(-1, height, width, channel)\n",
    "        X_inputs.append(X_input)\n",
    "    model = CNN_max_model(height, width, channel)\n",
    "    model.compile(loss='sparse_categorical_crossentropy',\n",
    "             optimizer='adam',\n",
    "             metrics=['accuracy'])\n",
    "    model.fit(X_inputs[0], y_train, batch_size=64, epochs=10, \n",
    "              validation_data=(X_inputs[1], y_val))\n",
    "    score = model.evaluate(X_inputs[2], y_test, verbose=0)\n",
    "    end_time=time.clock()\n",
    "    processing=end_time-start_time\n",
    "    heights.append(height)\n",
    "    widths.append(width)\n",
    "    channels.append(channel)\n",
    "    accuracy_test.append(score[1])\n",
    "    loss_test.append(score[0])\n",
    "    processing_time.append(processing)"
   ]
  },
  {
   "cell_type": "markdown",
   "metadata": {},
   "source": [
    "**Experiment with CNN_avg_model.**"
   ]
  },
  {
   "cell_type": "markdown",
   "metadata": {},
   "source": [
    "For each of the four data sets which are the four combinations of two (2) of the three (3) factors in this experiment: image size (64x64/128x128), and image color (gray: channel=1/color: channel=3), we split it into train/development/test (60/20/20). First, we train the CNN_avg model on each of the train set and evaluate on its corresponding development set. The time spent on training and developing will be recorded for each run."
   ]
  },
  {
   "cell_type": "code",
   "execution_count": 24,
   "metadata": {},
   "outputs": [
    {
     "name": "stdout",
     "output_type": "stream",
     "text": [
      "Train on 1280 samples, validate on 320 samples\n",
      "Epoch 1/10\n",
      "1280/1280 [==============================] - 5s 4ms/step - loss: 0.8232 - acc: 0.4977 - val_loss: 0.6986 - val_acc: 0.4500\n",
      "Epoch 2/10\n",
      "1280/1280 [==============================] - 4s 3ms/step - loss: 0.6898 - acc: 0.5281 - val_loss: 0.6896 - val_acc: 0.5969\n",
      "Epoch 3/10\n",
      "1280/1280 [==============================] - 5s 4ms/step - loss: 0.6811 - acc: 0.6117 - val_loss: 0.6811 - val_acc: 0.6000\n",
      "Epoch 4/10\n",
      "1280/1280 [==============================] - 5s 4ms/step - loss: 0.6587 - acc: 0.6633 - val_loss: 0.6557 - val_acc: 0.6906\n",
      "Epoch 5/10\n",
      "1280/1280 [==============================] - 5s 4ms/step - loss: 0.6017 - acc: 0.7156 - val_loss: 0.6229 - val_acc: 0.6813\n",
      "Epoch 6/10\n",
      "1280/1280 [==============================] - 5s 4ms/step - loss: 0.5490 - acc: 0.7430 - val_loss: 0.6104 - val_acc: 0.6875\n",
      "Epoch 7/10\n",
      "1280/1280 [==============================] - 5s 4ms/step - loss: 0.5033 - acc: 0.7883 - val_loss: 0.5966 - val_acc: 0.7031\n",
      "Epoch 8/10\n",
      "1280/1280 [==============================] - 5s 4ms/step - loss: 0.4313 - acc: 0.8195 - val_loss: 0.6119 - val_acc: 0.6750\n",
      "Epoch 9/10\n",
      "1280/1280 [==============================] - 5s 4ms/step - loss: 0.3963 - acc: 0.8414 - val_loss: 0.5960 - val_acc: 0.7094\n",
      "Epoch 10/10\n",
      "1280/1280 [==============================] - 5s 4ms/step - loss: 0.3565 - acc: 0.8578 - val_loss: 0.5851 - val_acc: 0.7094\n",
      "Train on 1280 samples, validate on 320 samples\n",
      "Epoch 1/10\n",
      "1280/1280 [==============================] - 20s 15ms/step - loss: 1.9495 - acc: 0.4898 - val_loss: 0.6974 - val_acc: 0.4500\n",
      "Epoch 2/10\n",
      "1280/1280 [==============================] - 18s 14ms/step - loss: 0.6799 - acc: 0.5625 - val_loss: 0.6754 - val_acc: 0.5813\n",
      "Epoch 3/10\n",
      "1280/1280 [==============================] - 19s 15ms/step - loss: 0.6367 - acc: 0.6641 - val_loss: 0.6290 - val_acc: 0.7312\n",
      "Epoch 4/10\n",
      "1280/1280 [==============================] - 18s 14ms/step - loss: 0.5253 - acc: 0.7758 - val_loss: 0.5474 - val_acc: 0.7625\n",
      "Epoch 5/10\n",
      "1280/1280 [==============================] - 19s 15ms/step - loss: 0.3852 - acc: 0.8547 - val_loss: 0.5181 - val_acc: 0.7438\n",
      "Epoch 6/10\n",
      "1280/1280 [==============================] - 19s 15ms/step - loss: 0.2629 - acc: 0.9156 - val_loss: 0.4968 - val_acc: 0.7688\n",
      "Epoch 7/10\n",
      "1280/1280 [==============================] - 19s 15ms/step - loss: 0.1872 - acc: 0.9430 - val_loss: 0.4831 - val_acc: 0.7750\n",
      "Epoch 8/10\n",
      "1280/1280 [==============================] - 19s 15ms/step - loss: 0.1320 - acc: 0.9734 - val_loss: 0.4607 - val_acc: 0.8250\n",
      "Epoch 9/10\n",
      "1280/1280 [==============================] - 19s 14ms/step - loss: 0.0873 - acc: 0.9836 - val_loss: 0.5540 - val_acc: 0.7812\n",
      "Epoch 10/10\n",
      "1280/1280 [==============================] - 19s 15ms/step - loss: 0.0582 - acc: 0.9937 - val_loss: 0.4998 - val_acc: 0.8156\n",
      "Train on 1280 samples, validate on 320 samples\n",
      "Epoch 1/10\n",
      "1280/1280 [==============================] - 7s 5ms/step - loss: 0.9125 - acc: 0.4930 - val_loss: 0.6904 - val_acc: 0.4500\n",
      "Epoch 2/10\n",
      "1280/1280 [==============================] - 6s 5ms/step - loss: 0.6585 - acc: 0.6125 - val_loss: 0.6179 - val_acc: 0.7031\n",
      "Epoch 3/10\n",
      "1280/1280 [==============================] - 6s 5ms/step - loss: 0.5673 - acc: 0.7133 - val_loss: 0.5929 - val_acc: 0.7250\n",
      "Epoch 4/10\n",
      "1280/1280 [==============================] - 7s 5ms/step - loss: 0.4532 - acc: 0.8047 - val_loss: 0.5232 - val_acc: 0.7312\n",
      "Epoch 5/10\n",
      "1280/1280 [==============================] - 6s 5ms/step - loss: 0.3658 - acc: 0.8594 - val_loss: 0.5566 - val_acc: 0.7188\n",
      "Epoch 6/10\n",
      "1280/1280 [==============================] - 6s 5ms/step - loss: 0.2871 - acc: 0.8898 - val_loss: 0.4664 - val_acc: 0.7812\n",
      "Epoch 7/10\n",
      "1280/1280 [==============================] - 6s 5ms/step - loss: 0.2431 - acc: 0.9125 - val_loss: 0.4614 - val_acc: 0.7844\n",
      "Epoch 8/10\n",
      "1280/1280 [==============================] - 6s 5ms/step - loss: 0.1788 - acc: 0.9430 - val_loss: 0.5213 - val_acc: 0.7594\n",
      "Epoch 9/10\n",
      "1280/1280 [==============================] - 6s 5ms/step - loss: 0.1183 - acc: 0.9680 - val_loss: 0.5665 - val_acc: 0.8063\n",
      "Epoch 10/10\n",
      "1280/1280 [==============================] - 6s 5ms/step - loss: 0.1358 - acc: 0.9500 - val_loss: 0.6271 - val_acc: 0.7625\n",
      "Train on 1280 samples, validate on 320 samples\n",
      "Epoch 1/10\n",
      "1280/1280 [==============================] - 27s 21ms/step - loss: 4.9347 - acc: 0.5016 - val_loss: 0.6768 - val_acc: 0.5500\n",
      "Epoch 2/10\n",
      "1280/1280 [==============================] - 24s 19ms/step - loss: 0.6430 - acc: 0.6094 - val_loss: 0.5752 - val_acc: 0.7531\n",
      "Epoch 3/10\n",
      "1280/1280 [==============================] - 24s 19ms/step - loss: 0.4687 - acc: 0.8094 - val_loss: 0.4618 - val_acc: 0.7781\n",
      "Epoch 4/10\n",
      "1280/1280 [==============================] - 25s 19ms/step - loss: 0.3426 - acc: 0.8562 - val_loss: 0.4566 - val_acc: 0.8063\n",
      "Epoch 5/10\n",
      "1280/1280 [==============================] - 24s 19ms/step - loss: 0.2532 - acc: 0.9047 - val_loss: 0.5184 - val_acc: 0.7688\n",
      "Epoch 6/10\n",
      "1280/1280 [==============================] - 24s 19ms/step - loss: 0.2017 - acc: 0.9352 - val_loss: 0.5488 - val_acc: 0.7969\n",
      "Epoch 7/10\n",
      "1280/1280 [==============================] - 24s 19ms/step - loss: 0.1465 - acc: 0.9484 - val_loss: 0.6137 - val_acc: 0.7719\n",
      "Epoch 8/10\n",
      "1280/1280 [==============================] - 24s 19ms/step - loss: 0.1002 - acc: 0.9789 - val_loss: 0.5515 - val_acc: 0.7875\n",
      "Epoch 9/10\n",
      "1280/1280 [==============================] - 27s 21ms/step - loss: 0.0609 - acc: 0.9852 - val_loss: 0.6093 - val_acc: 0.7969\n",
      "Epoch 10/10\n",
      "1280/1280 [==============================] - 24s 19ms/step - loss: 0.0304 - acc: 0.9953 - val_loss: 0.6980 - val_acc: 0.7875\n"
     ]
    }
   ],
   "source": [
    "for X_cat_dog in X_cats_dogs:\n",
    "    start_time = time.clock()\n",
    "    X_inputs=[]\n",
    "    batch_size, height, width, channel = X_cat_dog.shape\n",
    "    X_cat_dog = X_cat_dog.reshape(-1,height*width*channel)\n",
    "    X_train, X_test, y_train, y_test = train_test_split(X_cat_dog, y_cat_dog, \n",
    "                                                        test_size=0.2, \n",
    "                                                        random_state=Random_Seed)\n",
    "    X_train, X_val, y_train, y_val = train_test_split(X_train, y_train, \n",
    "                                                      test_size=0.2, \n",
    "                                                      random_state=Random_Seed)\n",
    "    for X in (X_train, X_val, X_test):\n",
    "        X_MinMax=scaler.transform(X)\n",
    "        X_input=X_MinMax.reshape(-1, height, width, channel)\n",
    "        X_inputs.append(X_input)\n",
    "    model = CNN_avg_model(height, width, channel)\n",
    "    model.compile(loss='sparse_categorical_crossentropy',\n",
    "             optimizer='adam',\n",
    "             metrics=['accuracy'])\n",
    "    model.fit(X_inputs[0], y_train, batch_size=64, epochs=10, \n",
    "              validation_data=(X_inputs[1], y_val))\n",
    "    score = model.evaluate(X_inputs[2], y_test, verbose=0)\n",
    "    end_time=time.clock()\n",
    "    processing=end_time-start_time\n",
    "    heights.append(height)\n",
    "    widths.append(width)\n",
    "    channels.append(channel)\n",
    "    accuracy_test.append(score[1])\n",
    "    loss_test.append(score[0])\n",
    "    processing_time.append(processing)"
   ]
  },
  {
   "cell_type": "markdown",
   "metadata": {},
   "source": [
    "# RESULTS AND CONCLUSION"
   ]
  },
  {
   "cell_type": "code",
   "execution_count": 25,
   "metadata": {},
   "outputs": [],
   "source": [
    "name=[['max-pooling'], ['avg-pooling']]\n",
    "names=np.repeat(name, 4)"
   ]
  },
  {
   "cell_type": "code",
   "execution_count": 46,
   "metadata": {},
   "outputs": [],
   "source": [
    "results = pd.DataFrame(OrderedDict([\n",
    "                        ('channel', channels),\n",
    "                        ('height', heights),\n",
    "                        ('width', widths),\n",
    "                        ('pooling-layer', names),\n",
    "                        ('accuracy on test', accuracy_test),\n",
    "                        ('time', processing_time),\n",
    "                        ('loss on test', loss_test),\n",
    "                        ]))"
   ]
  },
  {
   "cell_type": "code",
   "execution_count": 47,
   "metadata": {},
   "outputs": [
    {
     "name": "stdout",
     "output_type": "stream",
     "text": [
      "   channel  height  width pooling-layer  accuracy on test        time  \\\n",
      "0        1      64     64   max-pooling            0.8050   50.987981   \n",
      "1        1     128    128   max-pooling            0.7800  197.805428   \n",
      "2        3      64     64   max-pooling            0.8200   66.239383   \n",
      "3        3     128    128   max-pooling            0.8500  259.951935   \n",
      "4        1      64     64   avg-pooling            0.7450   49.635541   \n",
      "5        1     128    128   avg-pooling            0.7875  190.845519   \n",
      "6        3      64     64   avg-pooling            0.8025   64.735494   \n",
      "7        3     128    128   avg-pooling            0.8400  253.901873   \n",
      "\n",
      "   loss on test  \n",
      "0      0.494823  \n",
      "1      0.685610  \n",
      "2      0.407661  \n",
      "3      0.517714  \n",
      "4      0.512912  \n",
      "5      0.573515  \n",
      "6      0.487256  \n",
      "7      0.465183  \n"
     ]
    }
   ],
   "source": [
    "print(results)"
   ]
  },
  {
   "cell_type": "markdown",
   "metadata": {},
   "source": [
    "As the management is most concerned about achieving the highest possible accuracy in image classification, we will focus on how each factor impact the accuracy of the model.\n",
    "\n",
    "First, we examin the impact of image size (64x64/128x128) on model performance (test accuracy). When larger images (128x128) are used for model training and development, the accuracy of the model is mostly higher than that when smaller images (64x64) are utilized. This is evident by the fact that the accuracy-on-test of experiment 4(128x128) is higher than that of experiment 3(64x64), accuracy-on-test of experiment 6(128x128) is higher than that of experiment 5(64x64), and accuracy-on-tes of experiment 8(128x128) is higher than that of experiment 7(64x64).  \n",
    "\n",
    "Second, we zoom in on the impact of image color (gray: channel=1/color: channel=3) on model performance. When images in color (channel=3) are used for model training and development, the model consistently outperforms that built with gray images (channel=1), no matter of the image size or the type of pooling-layer. This is evident by the fact that the accuracy-on-test of experiment 3 (channel=3) is higher than that of experiment 1(channel=1), the accuracy-on-test of experiment 4 (channel=3) is higher than that of experiment 2 (channel=1), the accuracy-on-test of experiment 7 (channel=3) is higher than that of experiment 5 (channel=1), and the accuracy-on-test of experiment 8 (channel=3) is higher than that of experiment 6 (channel=1).\n",
    "\n",
    "Last but not least, we are interested in the impact of pooling-layer type on the model performance. We notice that when max_pooling layer is utilized, the model either outperform or performs closely to the model with avg_pooling layer. Therefore, max_pooling is recommended over average_pooling method."
   ]
  }
 ],
 "metadata": {
  "kernelspec": {
   "display_name": "Python 3",
   "language": "python",
   "name": "python3"
  },
  "language_info": {
   "codemirror_mode": {
    "name": "ipython",
    "version": 3
   },
   "file_extension": ".py",
   "mimetype": "text/x-python",
   "name": "python",
   "nbconvert_exporter": "python",
   "pygments_lexer": "ipython3",
   "version": "3.6.8"
  }
 },
 "nbformat": 4,
 "nbformat_minor": 2
}
